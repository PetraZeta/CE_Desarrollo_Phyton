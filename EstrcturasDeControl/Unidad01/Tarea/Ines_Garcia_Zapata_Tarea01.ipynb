{
  "nbformat": 4,
  "nbformat_minor": 0,
  "metadata": {
    "colab": {
      "provenance": []
    },
    "kernelspec": {
      "name": "python3",
      "display_name": "Python 3"
    },
    "language_info": {
      "name": "python"
    }
  },
  "cells": [
    {
      "cell_type": "markdown",
      "source": [
        "Realiza este examen en tu IDE preferido y entrega el archivo de código para que pueda comprobarlo en mi ordenador (Ya sea archivo de python, hoja de Jupyter notebook u otro).\n",
        "A partir del siguiente código:\n",
        "\n"
      ],
      "metadata": {
        "id": "Em7sTPMxvVVF"
      }
    },
    {
      "cell_type": "code",
      "execution_count": null,
      "metadata": {
        "id": "pQjNI66ZvQVV"
      },
      "outputs": [],
      "source": [
        "import numpy as np\n",
        "import matplotlib.pyplot as plt\n",
        "nota_mat = np.array([6.3, 9.1, 7.2 , 4.8, 7.2, 4.4, 5.5, 4.2, 6.9, 3.3, 4.5, 5.6, 5.4, 6.8, 5.1])\n",
        "nota_len = np.array([7.1, 8.7, 6.5 , 7.5, 5.6, 6.2, 5.4, 4.8 , 8.6, 4.8, 6.4, 5.6, 5.1 , 8.4, 5.0])\n",
        "nota_fis = np.array([7.4, 9.7, 7.8 , 5.4, 8.4, 3.2, 5.8, 6.4, 7.3, 3.5, 3.4, 5.6, 6.2, 7.1, 5.2])\n",
        "alumnos = np.array([\"Juan\", \"Noelia\", \"Pedro\", \"Marta\", \"Antonio\", \"Carlos\", \"Patricia\", \"Carmen\", \"Manuel\", \"Jorge\", \"Jose\", \"Sara\", \"María\", \"Rubén\", \"Bárbara\"])"
      ]
    },
    {
      "cell_type": "markdown",
      "source": [
        "Calcula:\n",
        "-Ejercicio 1 (2 puntos):\n",
        "1. Crea un array del mismo tamaño y tipo de datos que notas_mates llamado \"nuevo\" con los valores a 1\n",
        "2.\n",
        "Suma ambos arrays de forma vectorizada y guarda el resultado en array \"suma\". Imprime el resultado.\n",
        "3.\n",
        "Multiplica suma*3 y guarda el resultado en \"multiplica\". Imprime el resultado.\n",
        "4.\n",
        "Calcula la raiz cuadrada de cada elemento de \"multiplica\" y guarda en \"raiz\". Imprime el resultado.\n",
        "5.\n",
        "Redondea cada elemento de \"raiz\" al entero más cercano y guardalo en \"resultado\". Imprime el resultado.\n"
      ],
      "metadata": {
        "id": "oKn22b0Fvzd-"
      }
    },
    {
      "cell_type": "code",
      "source": [
        "import numpy as np\n",
        "import matplotlib.pyplot as plt\n",
        "nota_mat = np.array([6.3, 9.1, 7.2 , 4.8, 7.2, 4.4, 5.5, 4.2, 6.9, 3.3, 4.5, 5.6, 5.4, 6.8, 5.1])\n",
        "nuevo = np.ones_like(nota_mat)\n",
        "print(\"1. Todos a 1: \",nuevo)\n",
        "suma= nuevo+nota_mat\n",
        "print(\"2. Suma: \", suma)\n",
        "multiplica = suma*3\n",
        "print(\"3. Multiplica: \", multiplica)\n",
        "raiz= np.sqrt(multiplica)\n",
        "print(\"4. Raiz: \", raiz)\n",
        "resultado= np.rint(raiz)\n",
        "print(\"5. Resultado: \", resultado)\n",
        "\n",
        "\n"
      ],
      "metadata": {
        "colab": {
          "base_uri": "https://localhost:8080/"
        },
        "id": "yh_9439BwOts",
        "outputId": "7eaa8242-c645-4a25-dd5c-3e334f9ad8a8"
      },
      "execution_count": null,
      "outputs": [
        {
          "output_type": "stream",
          "name": "stdout",
          "text": [
            "1. Todos a 1:  [1. 1. 1. 1. 1. 1. 1. 1. 1. 1. 1. 1. 1. 1. 1.]\n",
            "2. Suma:  [ 7.3 10.1  8.2  5.8  8.2  5.4  6.5  5.2  7.9  4.3  5.5  6.6  6.4  7.8\n",
            "  6.1]\n",
            "3. Multiplica:  [21.9 30.3 24.6 17.4 24.6 16.2 19.5 15.6 23.7 12.9 16.5 19.8 19.2 23.4\n",
            " 18.3]\n",
            "4. Raiz:  [4.67974358 5.50454358 4.95983871 4.17133072 4.95983871 4.02492236\n",
            " 4.41588043 3.94968353 4.86826458 3.591657   4.0620192  4.44971909\n",
            " 4.38178046 4.83735465 4.27784993]\n",
            "4. Resultado:  [5. 6. 5. 4. 5. 4. 4. 4. 5. 4. 4. 4. 4. 5. 4.]\n"
          ]
        }
      ]
    },
    {
      "cell_type": "markdown",
      "source": [
        "-Ejercicio 2 (2 puntos):\n",
        "1. Muestra el nombre de los alumnos que han suspendido matemáticas\n",
        "2.\n",
        "Muestra el nombre de los alumnos que han sacado, en matemáticas, mayor nota que la media de matemáticas\n",
        "3.\n",
        "Muestra el nombre de los alumnos que han sacado mayor nota en mates que en lengua\n",
        "4.\n",
        "Muestra el nombre de los alumnos que han suspendido matemáticas y lengua\n"
      ],
      "metadata": {
        "id": "NU_8pNKCwAnU"
      }
    },
    {
      "cell_type": "code",
      "source": [
        "import numpy as np\n",
        "import matplotlib.pyplot as plt\n",
        "nota_mat = np.array([6.3, 9.1, 7.2 , 4.8, 7.2, 4.4, 5.5, 4.2, 6.9, 3.3, 4.5, 5.6, 5.4, 6.8, 5.1])\n",
        "nota_len = np.array([7.1, 8.7, 6.5 , 7.5, 5.6, 6.2, 5.4, 4.8 , 8.6, 4.8, 6.4, 5.6, 5.1 , 8.4, 5.0])\n",
        "alumnos = np.array([\"Juan\", \"Noelia\", \"Pedro\", \"Marta\", \"Antonio\", \"Carlos\", \"Patricia\", \"Carmen\", \"Manuel\", \"Jorge\", \"Jose\", \"Sara\", \"María\", \"Rubén\", \"Bárbara\"])\n",
        "\n",
        "suspensos = alumnos[nota_mat < 5]\n",
        "print(\"1. Suspensos: \",suspensos)\n",
        "mayor_media = alumnos[nota_mat > nota_mat.mean()]\n",
        "print(\"2. Mayor Nota Media: \",mayor_media)\n",
        "mejor_mat= alumnos[nota_mat > nota_len]\n",
        "print(\"3. Mejor en Mates que en Lengua: \",mejor_mat)\n",
        "suspensos_mt_lg = alumnos[(nota_mat < 5) & (nota_len < 5)]\n",
        "print(\"4. Suspensos Mates y Lengua: \",suspensos_mt_lg)\n",
        "\n"
      ],
      "metadata": {
        "id": "n-CviwapwGUc",
        "colab": {
          "base_uri": "https://localhost:8080/"
        },
        "outputId": "44979e81-0c43-429a-e3ba-aefaf2b2f21c"
      },
      "execution_count": 16,
      "outputs": [
        {
          "output_type": "stream",
          "name": "stdout",
          "text": [
            "1. Suspensos:  ['Marta' 'Carlos' 'Carmen' 'Jorge' 'Jose']\n",
            "2. Mayor Nota Media:  ['Juan' 'Noelia' 'Pedro' 'Antonio' 'Manuel' 'Rubén']\n",
            "3. Mejor en Mates que en Lengua:  ['Noelia' 'Pedro' 'Antonio' 'Patricia' 'María' 'Bárbara']\n",
            "4. Suspensos Mates y Lengua:  ['Carmen' 'Jorge']\n"
          ]
        }
      ]
    },
    {
      "cell_type": "markdown",
      "source": [
        "-Ejercicio 3 (3 puntos):\n",
        "1. Muestra cuantos alumnos han probado y cuantos han suspendido en matemáticas (se aprueba con 5 o más)\n",
        "2.\n",
        "Muestra el nombre del alumno que ha sacado menor nota en lengua\n",
        "3.\n",
        "Muestra el nombre del alumno que ha sacado la nota más alta de todas entre matemáticas y lengua\n",
        "4.\n",
        "Genera un ndarray de strings, indicando en cada valor \"mates\" o \"lengua\". El array debe indicar, por cada alumno, la\n",
        "asignatura donde cada alumno saca mayor nota entre mates y lengua. Posteriormente, imprime el ndarray generado\n",
        "5.\n",
        "Genera un ndarray que guarde la nota media de las tres asignaturas. Posteriormente, imprímelo\n",
        "Anotación: Si salen muchos decimales, numpy tiene la función ndarray.round(decimales), que redondea cada elemento del ndarray a los decimales dados.\n"
      ],
      "metadata": {
        "id": "q3mqFD_qwGod"
      }
    },
    {
      "cell_type": "code",
      "source": [
        "import numpy as np\n",
        "import matplotlib.pyplot as plt\n",
        "nota_mat = np.array([6.3, 9.1, 7.2 , 4.8, 7.2, 4.4, 5.5, 4.2, 6.9, 3.3, 4.5, 5.6, 5.4, 6.8, 5.1])\n",
        "nota_len = np.array([7.1, 8.7, 6.5 , 7.5, 5.6, 6.2, 5.4, 4.8 , 8.6, 4.8, 6.4, 5.6, 5.1 , 8.4, 5.0])\n",
        "nota_fis = np.array([7.4, 9.7, 7.8 , 5.4, 8.4, 3.2, 5.8, 6.4, 7.3, 3.5, 3.4, 5.6, 6.2, 7.1, 5.2])\n",
        "alumnos = np.array([\"Juan\", \"Noelia\", \"Pedro\", \"Marta\", \"Antonio\", \"Carlos\", \"Patricia\", \"Carmen\", \"Manuel\", \"Jorge\", \"Jose\", \"Sara\", \"María\", \"Rubén\", \"Bárbara\"])\n",
        "\n",
        "suspensos =(nota_mat > 5).sum()\n",
        "print(\"1. Mates: Aprobados:\",nota_mat.size-suspensos, \"Suspensos:\", suspensos)\n",
        "min_len = alumnos[nota_len.argmin()]\n",
        "print(\"\\n2. Peor nota en lengua: \", min_len)\n",
        "max_len_mat = alumnos[nota_len.argmax() & nota_mat.argmax() ]\n",
        "print(\"\\n3. Mejor nota en lengua y en mates: \", max_len_mat)\n",
        "asignaturas = np.where(nota_mat > nota_len, \"mates\", \"lengua\")\n",
        "print(\"\\n4. Mejor nota en: \")\n",
        "for i in range(len(alumnos)):\n",
        "  print(f\"{alumnos[i]} : {asignaturas[i]}\")\n",
        "\n",
        "print(\"\\n5. Nota media: \")\n",
        "nota_media = np.round((nota_mat + nota_len + nota_fis)/3 , 2)\n",
        "for i in range(len(alumnos)):\n",
        "  print(f\"{alumnos[i]} : {nota_media[i]}\")"
      ],
      "metadata": {
        "id": "bjCeHsovwKvk",
        "colab": {
          "base_uri": "https://localhost:8080/"
        },
        "outputId": "615a67c4-924e-4b5e-cedd-e40fdc9ca751"
      },
      "execution_count": 36,
      "outputs": [
        {
          "output_type": "stream",
          "name": "stdout",
          "text": [
            "1. Mates: Aprobados: 5 Suspensos: 10\n",
            "\n",
            "2. Peor nota en lengua:  Carmen\n",
            "\n",
            "3. Mejor nota en lengua y en mates:  Noelia\n",
            "\n",
            "4. Mejor nota en: \n",
            "Juan : lengua\n",
            "Noelia : mates\n",
            "Pedro : mates\n",
            "Marta : lengua\n",
            "Antonio : mates\n",
            "Carlos : lengua\n",
            "Patricia : mates\n",
            "Carmen : lengua\n",
            "Manuel : lengua\n",
            "Jorge : lengua\n",
            "Jose : lengua\n",
            "Sara : lengua\n",
            "María : mates\n",
            "Rubén : lengua\n",
            "Bárbara : mates\n",
            "\n",
            "5. Nota media: \n",
            "Juan : 6.93\n",
            "Noelia : 9.17\n",
            "Pedro : 7.17\n",
            "Marta : 5.9\n",
            "Antonio : 7.07\n",
            "Carlos : 4.6\n",
            "Patricia : 5.57\n",
            "Carmen : 5.13\n",
            "Manuel : 7.6\n",
            "Jorge : 3.87\n",
            "Jose : 4.77\n",
            "Sara : 5.6\n",
            "María : 5.57\n",
            "Rubén : 7.43\n",
            "Bárbara : 5.1\n"
          ]
        }
      ]
    },
    {
      "cell_type": "markdown",
      "source": [
        "-Ejercicio 4 (3 puntos):\n",
        "Genera una figura con 4 gráficas:\n",
        "1. Histograma con las notas medias\n",
        "2.\n",
        "Nube de puntos notas de matemáticas con notas de lengua\n",
        "3.\n",
        "Nube de puntos notas de matemáticas con notas de física\n",
        "4.\n",
        "Nube de puntos notas de física con notas de lengua\n",
        "\n",
        "Nombra cada eje de las nubes de puntos y el eje X en el histograma.\n",
        "Cada figura de un color, como se muestra en la imagen."
      ],
      "metadata": {
        "id": "YGJ0d9QbwLFU"
      }
    },
    {
      "cell_type": "code",
      "source": [
        "import numpy as np\n",
        "import matplotlib.pyplot as plt\n",
        "nota_mat = np.array([6.3, 9.1, 7.2 , 4.8, 7.2, 4.4, 5.5, 4.2, 6.9, 3.3, 4.5, 5.6, 5.4, 6.8, 5.1])\n",
        "nota_len = np.array([7.1, 8.7, 6.5 , 7.5, 5.6, 6.2, 5.4, 4.8 , 8.6, 4.8, 6.4, 5.6, 5.1 , 8.4, 5.0])\n",
        "nota_fis = np.array([7.4, 9.7, 7.8 , 5.4, 8.4, 3.2, 5.8, 6.4, 7.3, 3.5, 3.4, 5.6, 6.2, 7.1, 5.2])\n",
        "alumnos = np.array([\"Juan\", \"Noelia\", \"Pedro\", \"Marta\", \"Antonio\", \"Carlos\", \"Patricia\", \"Carmen\", \"Manuel\", \"Jorge\", \"Jose\", \"Sara\", \"María\", \"Rubén\", \"Bárbara\"])\n",
        "nota_media = np.round((nota_mat + nota_len + nota_fis)/3 , 2)\n",
        "fig, ax = plt.subplots(nrows=2, ncols=2, figsize=(10,10))\n",
        "ax[0][0].hist(np.sort(nota_media), label=\"Nota Media\", color=\"blue\")\n",
        "ax[0][0].set_xlabel(\"Nota Media\", color=\"blue\")\n",
        "\n",
        "ax[0][1].scatter(nota_mat, nota_len, color=\"red\")\n",
        "ax[0][1].set_xlabel(\"Matemáticas\", color=\"red\")\n",
        "ax[0][1].set_ylabel(\"Lengua\", color=\"red\")\n",
        "\n",
        "ax[1][0].scatter(nota_mat, nota_fis, color=\"yellow\")\n",
        "ax[1][0].set_xlabel(\"Matemáticas\", color=\"yellow\")\n",
        "ax[1][0].set_ylabel(\"Física\", color=\"yellow\")\n",
        "\n",
        "ax[1][1].scatter(nota_fis, nota_len, color=\"green\")\n",
        "ax[1][1].set_xlabel(\"Física\", color=\"green\")\n",
        "ax[1][1].set_ylabel(\"Lengua\", color=\"green\")"
      ],
      "metadata": {
        "colab": {
          "base_uri": "https://localhost:8080/",
          "height": 867
        },
        "id": "ywhP2qRYB8QT",
        "outputId": "8f9f15ce-1dd5-46f9-9e24-5245b59c9c32"
      },
      "execution_count": 58,
      "outputs": [
        {
          "output_type": "execute_result",
          "data": {
            "text/plain": [
              "Text(0, 0.5, 'Lengua')"
            ]
          },
          "metadata": {},
          "execution_count": 58
        },
        {
          "output_type": "display_data",
          "data": {
            "text/plain": [
              "<Figure size 1000x1000 with 4 Axes>"
            ],
            "image/png": "[encoded data removed]"
          },
          "metadata": {}
        }
      ]
    },
    {
      "cell_type": "code",
      "source": [],
      "metadata": {
        "id": "oH5fUmmeCk3O"
      },
      "execution_count": null,
      "outputs": []
    }
  ]
}