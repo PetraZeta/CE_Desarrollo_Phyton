{
  "nbformat": 4,
  "nbformat_minor": 0,
  "metadata": {
    "colab": {
      "provenance": [],
      "authorship_tag": "ABX9TyNd5Qtjp2ZrSjbwpY/J6vZ+",
      "include_colab_link": true
    },
    "kernelspec": {
      "name": "python3",
      "display_name": "Python 3"
    },
    "language_info": {
      "name": "python"
    }
  },
  "cells": [
    {
      "cell_type": "markdown",
      "metadata": {
        "id": "view-in-github",
        "colab_type": "text"
      },
      "source": [
        "<a href=\"https://colab.research.google.com/github/PetraZeta/CE_Desarrollo_Phyton/blob/main/AnalisisDatos_ejercicios01.ipynb\" target=\"_parent\"><img src=\"https://colab.research.google.com/assets/colab-badge.svg\" alt=\"Open In Colab\"/></a>"
      ]
    },
    {
      "cell_type": "markdown",
      "source": [
        "1. Crea un array a partir de una lista de números con decimales (los que tu consideres, 4 o\n",
        "5 números). Imprime sus valores uno a uno mediante un bucle while y los atributos del array\n",
        "(dimensiones, tamaño, tipo de dato, shape)."
      ],
      "metadata": {
        "id": "nuFRG1uLXeZ0"
      }
    },
    {
      "cell_type": "code",
      "execution_count": 13,
      "metadata": {
        "colab": {
          "base_uri": "https://localhost:8080/"
        },
        "id": "7gWNKHgMXQC1",
        "outputId": "1acd8f4b-effd-4736-a121-fccabf38ed14"
      },
      "outputs": [
        {
          "output_type": "stream",
          "name": "stdout",
          "text": [
            "1\n",
            "2\n",
            "3\n",
            "4\n",
            "Dimensiones:  1\n",
            "Tamaño:  4\n",
            "Tipo de dato:  int64\n",
            "Shape:  (4,)\n"
          ]
        }
      ],
      "source": [
        "import numpy as np\n",
        "lista = [1,2,3,4]\n",
        "my_array = np.array(lista)\n",
        "n=0\n",
        "while n < len(my_array):\n",
        "  print(my_array[n])\n",
        "  n += 1\n",
        "print(\"Dimensiones: \", my_array.ndim)\n",
        "print(\"Tamaño: \", my_array.size)\n",
        "print(\"Tipo de dato: \", my_array.dtype)\n",
        "print(\"Shape: \", my_array.shape)\n",
        "\n",
        "\n"
      ]
    },
    {
      "cell_type": "markdown",
      "source": [
        "2. Crear una función “inicializar_array” que reciba por parámetro un array de 1 dimensión de\n",
        "tipos enteros y devuelva el array inicializado/modificado con valores introducidos por teclado\n",
        "(solamente enteros). Utilizar un while para recorrer el array.\n"
      ],
      "metadata": {
        "id": "tE0Fjz_bd7pO"
      }
    },
    {
      "cell_type": "code",
      "source": [
        "import numpy as np\n",
        "def inicializar_array(array):\n",
        "  n=0\n",
        "  while n < len(array):\n",
        "    try:\n",
        "      valor = int(input(f\"Introduzca un número para la posición {n}: \"))\n",
        "      array[n] = valor\n",
        "      print(array[n])\n",
        "      n += 1\n",
        "    except ValueError:\n",
        "      print(\"Debes introducir un número\")\n",
        "  return array\n",
        "\n",
        "\n",
        "tamaño = 5  # Define el tamaño del array\n",
        "array = np.zeros(tamaño, dtype=int)  # Inicializa un array de ceros\n",
        "\n",
        "# Llamar a la función para inicializar el array\n",
        "array_inicializado = inicializar_array(array)\n",
        "\n",
        "# Mostrar el array modificado\n",
        "print(\"Array inicializado:\", array_inicializado)"
      ],
      "metadata": {
        "colab": {
          "base_uri": "https://localhost:8080/"
        },
        "id": "nu94m1iNeGbE",
        "outputId": "cac0b079-7ce8-431d-ecf2-398ee53b018d"
      },
      "execution_count": 29,
      "outputs": [
        {
          "output_type": "stream",
          "name": "stdout",
          "text": [
            "Introduzca un número para la posición 0: 232\n",
            "232\n",
            "Introduzca un número para la posición 1: 12\n",
            "12\n",
            "Introduzca un número para la posición 2: 12\n",
            "12\n",
            "Introduzca un número para la posición 3: 25\n",
            "25\n",
            "Introduzca un número para la posición 4: 22\n",
            "22\n",
            "Array inicializado: [232  12  12  25  22]\n"
          ]
        }
      ]
    },
    {
      "cell_type": "markdown",
      "source": [
        "3. Crear las funciones “media”, “máximo”, “mínimo” que reciba un array de valores\n",
        "numéricos y devuelva la media aritmética, el valor máximo y el valor mínimo\n",
        "respectivamente. Realizar el cálculo manualmente recorriendo el array con un while."
      ],
      "metadata": {
        "id": "9KM9anrHwr_2"
      }
    },
    {
      "cell_type": "code",
      "source": [
        "import numpy as np\n",
        "lista = [1,2,3,4]\n",
        "lista1 = [1,3,3,4]\n",
        "my_array = np.array(lista)\n",
        "my_array1 = np.array(lista1)\n",
        "\n",
        "print(\"\\nMaximo 1 array: \", np.max(my_array))\n",
        "print(\"\\nMaximo 2 array: \", np.maximum(my_array,my_array1))\n",
        "\n",
        "print(\"\\nMinimo 1 array: \", np.min(my_array))\n",
        "print(\"\\nMinimo 2 array: \", np.minimum(my_array,my_array1))\n",
        "\n",
        "print(\"\\nMedia 1 array: \", np.mean(my_array))\n"
      ],
      "metadata": {
        "colab": {
          "base_uri": "https://localhost:8080/"
        },
        "id": "0bgTIK_zws8j",
        "outputId": "ba9caedd-9363-4cd6-ce85-10b0de0f6c48"
      },
      "execution_count": 36,
      "outputs": [
        {
          "output_type": "stream",
          "name": "stdout",
          "text": [
            "\n",
            "Maximo 1 array:  4\n",
            "\n",
            "Maximo 2 array:  [1 3 3 4]\n",
            "\n",
            "Minimo 1 array:  1\n",
            "\n",
            "Minimo 2 array:  [1 2 3 4]\n",
            "\n",
            "Media 1 array:  2.5\n"
          ]
        }
      ]
    },
    {
      "cell_type": "markdown",
      "source": [
        "4. Crear la función “encontrar” (usando while) que reciba dos parámetros: un array numérico\n",
        "y un valor. La función debe buscar en el array si el “valor” se encuentra en él. La función\n",
        "debe devolver:\n",
        "- Si valor se encuentra en el array, devolver el índice (primera aparición)\n",
        "- Si el valor no se encuentra en el array, devolver -1."
      ],
      "metadata": {
        "id": "TnwKGekn3uEV"
      }
    },
    {
      "cell_type": "code",
      "source": [
        "def encontrar(array,valor):\n",
        "  result = -1\n",
        "  i = 0\n",
        "  while i < len(array):\n",
        "    if array[i] == valor:\n",
        "      result = i\n",
        "      break\n",
        "    i += 1\n",
        "  return result\n",
        "\n",
        "print(encontrar([1,2,3,4], 3))"
      ],
      "metadata": {
        "colab": {
          "base_uri": "https://localhost:8080/"
        },
        "id": "4mQ293hD30Ny",
        "outputId": "f8bb88d5-93d6-4fa6-fc31-8d8cca0e4839"
      },
      "execution_count": 43,
      "outputs": [
        {
          "output_type": "stream",
          "name": "stdout",
          "text": [
            "2\n"
          ]
        }
      ]
    },
    {
      "cell_type": "markdown",
      "source": [
        "5. Crear una función “desviación estándar” que reciba por parámetro un array y devuelva la\n",
        "desviación estándar. Calcular paso a paso el resultado utilizando un while para recorrer el\n",
        "array. También se debe usar la función “media” del ejercicio 2. Para calcular la raíz\n",
        "cuadrada podemos usar la función de numpy.sqrt(n). Operador potencia es **"
      ],
      "metadata": {
        "id": "ITWeFbgj78GZ"
      }
    },
    {
      "cell_type": "code",
      "source": [
        "import numpy as np\n",
        "def desviacion_estandar(array):\n",
        "  # Paso 1: Calcular la media\n",
        "  media= np.mean(array)\n",
        "  # Paso 2: Calcular las diferencias al cuadrado\n",
        "  suma_diferencias = 0\n",
        "  i = 0\n",
        "  while i < len(array):\n",
        "    suma_diferencias += (array[i] - media)**2\n",
        "    i += 1\n",
        "  # Paso 3: Calcular la varianza\n",
        "  varianza = suma_diferencias/len(array)\n",
        "  # Paso 4: Calcular la raíz cuadrada de la varianza\n",
        "  desviacion=np.sqrt(varianza)\n",
        "  return varianza\n",
        "\n",
        "print(desviacion_estandar([1,2,3,4]))"
      ],
      "metadata": {
        "colab": {
          "base_uri": "https://localhost:8080/"
        },
        "id": "Mzt0fV7m785S",
        "outputId": "7e34df63-d0f7-4eba-8d38-4f38c525cdca"
      },
      "execution_count": 51,
      "outputs": [
        {
          "output_type": "stream",
          "name": "stdout",
          "text": [
            "1.25\n"
          ]
        }
      ]
    }
  ]
}
